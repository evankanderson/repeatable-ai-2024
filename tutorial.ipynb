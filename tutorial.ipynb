{
 "cells": [
  {
   "cell_type": "markdown",
   "metadata": {},
   "source": [
    "# Record environment"
   ]
  },
  {
   "cell_type": "code",
   "execution_count": 28,
   "metadata": {},
   "outputs": [
    {
     "name": "stdout",
     "output_type": "stream",
     "text": [
      "3.9.4 (tags/v3.9.4:1f2e308, Apr  4 2021, 13:27:16) [MSC v.1928 64 bit (AMD64)]\n",
      "Git commit: a0895b6 (dirty)\n",
      "\n",
      "Seeding pytorch with 31337\n"
     ]
    },
    {
     "ename": "TypeError",
     "evalue": "use_deterministic_algorithms() missing 1 required positional argument: 'mode'",
     "output_type": "error",
     "traceback": [
      "\u001b[1;31m---------------------------------------------------------------------------\u001b[0m",
      "\u001b[1;31mTypeError\u001b[0m                                 Traceback (most recent call last)",
      "Cell \u001b[1;32mIn[28], line 19\u001b[0m\n\u001b[0;32m     17\u001b[0m torch\u001b[38;5;241m.\u001b[39mmanual_seed(seed)\n\u001b[0;32m     18\u001b[0m \u001b[38;5;66;03m# Avoid nondeterministic algorithms (may be slower)\u001b[39;00m\n\u001b[1;32m---> 19\u001b[0m \u001b[43mtorch\u001b[49m\u001b[38;5;241;43m.\u001b[39;49m\u001b[43muse_deterministic_algorithms\u001b[49m\u001b[43m(\u001b[49m\u001b[43m)\u001b[49m\n",
      "\u001b[1;31mTypeError\u001b[0m: use_deterministic_algorithms() missing 1 required positional argument: 'mode'"
     ]
    }
   ],
   "source": [
    "import sys\n",
    "import os\n",
    "\n",
    "print(sys.version)\n",
    "with os.popen('git describe --tags --always --dirty=\" (dirty)\"') as out:\n",
    "    print(\"Git commit:\", \"\\n\".join(out))\n",
    "\n",
    "import torch\n",
    "from torch import nn\n",
    "from torch.utils.data import DataLoader\n",
    "from torchvision import datasets\n",
    "from torchvision.transforms import ToTensor\n",
    "\n",
    "# Repeatable random numbers\n",
    "seed = 31337\n",
    "print(f\"Seeding pytorch with {seed}\")\n",
    "torch.manual_seed(seed)\n",
    "# Avoid nondeterministic algorithms (may be slower)\n",
    "torch.use_deterministic_algorithms(True)"
   ]
  },
  {
   "cell_type": "markdown",
   "metadata": {},
   "source": [
    "# Fetch data"
   ]
  },
  {
   "cell_type": "code",
   "execution_count": null,
   "metadata": {},
   "outputs": [],
   "source": [
    "# Download data from open datasets\n",
    "training_data = datasets.FashionMNIST(\n",
    "    root=\"data\",\n",
    "    train=True,\n",
    "    download=True,\n",
    "    transform=ToTensor(),\n",
    ")\n",
    "\n",
    "test_data = datasets.FashionMNIST(\n",
    "    root=\"data\",\n",
    "    train=False,\n",
    "    download=True,\n",
    "    transform=ToTensor(),\n",
    ")\n",
    "\n",
    "# This stuff relies on the downloaded test data\n",
    "batch_size = 64\n",
    "\n",
    "train_dataloader = DataLoader(training_data, batch_size=batch_size)\n",
    "test_dataloader = DataLoader(test_data, batch_size=batch_size)\n",
    "\n"
   ]
  },
  {
   "cell_type": "markdown",
   "metadata": {},
   "source": [
    "# Define model"
   ]
  },
  {
   "cell_type": "code",
   "execution_count": null,
   "metadata": {},
   "outputs": [
    {
     "name": "stdout",
     "output_type": "stream",
     "text": [
      "Using cpu device\n"
     ]
    }
   ],
   "source": [
    "# Detect what local device we have available\n",
    "device = (\n",
    "    \"cuda\"\n",
    "    if torch.cuda.is_available()\n",
    "    else \"mps\"\n",
    "    if torch.backends.mps.is_available()\n",
    "    else \"cpu\"\n",
    ")\n",
    "print(f\"Using {device} device\")\n",
    "\n",
    "# Define model\n",
    "class NeuralNetwork(nn.Module):\n",
    "    def __init__(self):\n",
    "        super().__init__()\n",
    "        self.flatten = nn.Flatten()\n",
    "        self.linear_relu_stack = nn.Sequential(\n",
    "            nn.Linear(28*28, 512),\n",
    "            nn.ReLU(),\n",
    "            nn.Linear(512, 512),\n",
    "            nn.ReLU(),\n",
    "            nn.Linear(512, 10)\n",
    "        )\n",
    "\n",
    "    def forward(self, x):\n",
    "        x = self.flatten(x)\n",
    "        logits = self.linear_relu_stack(x)\n",
    "        return logits\n",
    "\n",
    "model = NeuralNetwork().to(device)\n",
    "\n",
    "loss_fn = nn.CrossEntropyLoss()\n",
    "optimizer = torch.optim.SGD(model.parameters(), lr=1e-3)"
   ]
  },
  {
   "cell_type": "markdown",
   "metadata": {},
   "source": [
    "# Train the model"
   ]
  },
  {
   "cell_type": "code",
   "execution_count": null,
   "metadata": {},
   "outputs": [
    {
     "name": "stdout",
     "output_type": "stream",
     "text": [
      "Epoch 1\n",
      "-------------------------------\n",
      "loss: 2.294629  [   64/60000]\n",
      "loss: 2.275685  [ 6464/60000]\n",
      "loss: 2.258202  [12864/60000]\n",
      "loss: 2.261698  [19264/60000]\n",
      "loss: 2.241029  [25664/60000]\n",
      "loss: 2.214132  [32064/60000]\n",
      "loss: 2.212466  [38464/60000]\n",
      "loss: 2.173881  [44864/60000]\n",
      "loss: 2.170368  [51264/60000]\n",
      "loss: 2.145159  [57664/60000]\n",
      "Test Error: \n",
      " Accuracy: 47.6%, Avg loss: 2.133345 \n",
      "\n",
      "Epoch 2\n",
      "-------------------------------\n",
      "loss: 2.140343  [   64/60000]\n",
      "loss: 2.123337  [ 6464/60000]\n",
      "loss: 2.061121  [12864/60000]\n",
      "loss: 2.084869  [19264/60000]\n",
      "loss: 2.032091  [25664/60000]\n",
      "loss: 1.966189  [32064/60000]\n",
      "loss: 1.987371  [38464/60000]\n",
      "loss: 1.901700  [44864/60000]\n",
      "loss: 1.910652  [51264/60000]\n",
      "loss: 1.830600  [57664/60000]\n",
      "Test Error: \n",
      " Accuracy: 57.2%, Avg loss: 1.834249 \n",
      "\n",
      "Epoch 3\n",
      "-------------------------------\n",
      "loss: 1.871719  [   64/60000]\n",
      "loss: 1.831354  [ 6464/60000]\n",
      "loss: 1.711824  [12864/60000]\n",
      "loss: 1.758779  [19264/60000]\n",
      "loss: 1.661220  [25664/60000]\n",
      "loss: 1.611196  [32064/60000]\n",
      "loss: 1.631214  [38464/60000]\n",
      "loss: 1.537008  [44864/60000]\n",
      "loss: 1.569229  [51264/60000]\n",
      "loss: 1.456520  [57664/60000]\n",
      "Test Error: \n",
      " Accuracy: 61.7%, Avg loss: 1.481978 \n",
      "\n",
      "Epoch 4\n",
      "-------------------------------\n",
      "loss: 1.551707  [   64/60000]\n",
      "loss: 1.512843  [ 6464/60000]\n",
      "loss: 1.364159  [12864/60000]\n",
      "loss: 1.439667  [19264/60000]\n",
      "loss: 1.341029  [25664/60000]\n",
      "loss: 1.329883  [32064/60000]\n",
      "loss: 1.344382  [38464/60000]\n",
      "loss: 1.273408  [44864/60000]\n",
      "loss: 1.310150  [51264/60000]\n",
      "loss: 1.206758  [57664/60000]\n",
      "Test Error: \n",
      " Accuracy: 63.7%, Avg loss: 1.235185 \n",
      "\n",
      "Epoch 5\n",
      "-------------------------------\n",
      "loss: 1.307478  [   64/60000]\n",
      "loss: 1.289803  [ 6464/60000]\n",
      "loss: 1.123741  [12864/60000]\n",
      "loss: 1.233662  [19264/60000]\n",
      "loss: 1.126677  [25664/60000]\n",
      "loss: 1.141029  [32064/60000]\n",
      "loss: 1.164088  [38464/60000]\n",
      "loss: 1.105994  [44864/60000]\n",
      "loss: 1.145393  [51264/60000]\n",
      "loss: 1.052147  [57664/60000]\n",
      "Test Error: \n",
      " Accuracy: 65.1%, Avg loss: 1.077550 \n",
      "\n",
      "Done!\n"
     ]
    }
   ],
   "source": [
    "\n",
    "\n",
    "# Training function\n",
    "def train(dataloader, model, loss_fn, optimizer):\n",
    "    size = len(dataloader.dataset)\n",
    "    model.train()\n",
    "    for batch, (X, y) in enumerate(dataloader):\n",
    "        X, y = X.to(device), y.to(device)\n",
    "\n",
    "        # Compute prediction error\n",
    "        pred = model(X)\n",
    "        loss = loss_fn(pred, y)\n",
    "\n",
    "        # Backpropagation\n",
    "        loss.backward()\n",
    "        optimizer.step()\n",
    "        optimizer.zero_grad()\n",
    "\n",
    "        if batch % 100 == 0:\n",
    "            loss, current = loss.item(), (batch + 1) * len(X)\n",
    "            print(f\"loss: {loss:>7f}  [{current:>5d}/{size:>5d}]\")\n",
    "\n",
    "# Testing function\n",
    "def test(dataloader, model, loss_fn):\n",
    "    size = len(dataloader.dataset)\n",
    "    num_batches = len(dataloader)\n",
    "    model.eval()\n",
    "    test_loss, correct = 0, 0\n",
    "    with torch.no_grad():\n",
    "        for X, y in dataloader:\n",
    "            X, y = X.to(device), y.to(device)\n",
    "            pred = model(X)\n",
    "            test_loss += loss_fn(pred, y).item()\n",
    "            correct += (pred.argmax(1) == y).type(torch.float).sum().item()\n",
    "    test_loss /= num_batches\n",
    "    correct /= size\n",
    "    print(f\"Test Error: \\n Accuracy: {(100*correct):>0.1f}%, Avg loss: {test_loss:>8f} \\n\")\n",
    "\n",
    "# Perform training\n",
    "epochs = 5\n",
    "for t in range(epochs):\n",
    "    print(f\"Epoch {t+1}\\n-------------------------------\")\n",
    "    train(train_dataloader, model, loss_fn, optimizer)\n",
    "    test(test_dataloader, model, loss_fn)\n",
    "print(\"Done!\")\n"
   ]
  },
  {
   "cell_type": "markdown",
   "metadata": {},
   "source": [
    "# Save the model"
   ]
  },
  {
   "cell_type": "code",
   "execution_count": null,
   "metadata": {},
   "outputs": [
    {
     "name": "stdout",
     "output_type": "stream",
     "text": [
      "Saved PyTorch Model State to model-cpu.pth\n"
     ]
    }
   ],
   "source": [
    "\n",
    "# Save the model locally\n",
    "torch.save(model.state_dict(), f\"model-{device}.pth\")\n",
    "print(f\"Saved PyTorch Model State to model-{device}.pth\")"
   ]
  }
 ],
 "metadata": {
  "kernelspec": {
   "display_name": ".venv",
   "language": "python",
   "name": "python3"
  },
  "language_info": {
   "codemirror_mode": {
    "name": "ipython",
    "version": 3
   },
   "file_extension": ".py",
   "mimetype": "text/x-python",
   "name": "python",
   "nbconvert_exporter": "python",
   "pygments_lexer": "ipython3",
   "version": "3.9.4"
  }
 },
 "nbformat": 4,
 "nbformat_minor": 2
}
